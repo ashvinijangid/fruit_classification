{
 "cells": [
  {
   "cell_type": "markdown",
   "metadata": {
    "ExecuteTime": {
     "end_time": "2020-04-23T16:02:25.757021Z",
     "start_time": "2020-04-23T16:02:25.750912Z"
    }
   },
   "source": [
    "# Convolutional Neural Networks (CNN)\n",
    "\n",
    "In this lesson we will explore the basics of Convolutional Neural Networks (CNNs)"
   ]
  },
  {
   "cell_type": "markdown",
   "metadata": {},
   "source": [
    "### List of defaults:\n",
    "\n",
    "\n",
    " - `batch_size`: this is how many examples to train on in one batch.\n",
    " - `data_dir`: where to store data (check if data exists here, as to not have to download every time).\n",
    " - `output_every`: output training accuracy/loss statistics every X generations/epochs.\n",
    " - `eval_every`: output test accuracy/loss statistics every X generations/epochs.\n",
    " - `image_height`: standardize images to this height.\n",
    " - `image_width`: standardize images to this width.\n",
    " - `crop_height`: random internal crop before training on image - height.\n",
    " - `crop_width`: random internal crop before training on image - width.\n",
    " - `num_channels`: number of color channels of image (greyscale = 1, color = 3).\n",
    " - `num_targets`: number of different target categories. \n",
    " - `extract_folder`: folder to extract downloaded images to.\n",
    "    \n",
    "    "
   ]
  },
  {
   "cell_type": "code",
   "execution_count": null,
   "metadata": {
    "ExecuteTime": {
     "end_time": "2020-04-23T16:22:13.502605Z",
     "start_time": "2020-04-23T16:22:13.493807Z"
    }
   },
   "outputs": [],
   "source": [
    "!pip install -r requirements.txt"
   ]
  },
  {
   "cell_type": "code",
   "execution_count": null,
   "metadata": {
    "ExecuteTime": {
     "end_time": "2020-04-23T16:16:29.416729Z",
     "start_time": "2020-04-23T16:16:27.272694Z"
    }
   },
   "outputs": [],
   "source": [
    "# import tensorflow as tf\n",
    "from PIL import Image\n",
    "import numpy as np\n",
    "import matplotlib.pyplot as plt\n",
    "from random import choice\n",
    "import os\n",
    "from tensorflow.keras.preprocessing.image import ImageDataGenerator"
   ]
  },
  {
   "cell_type": "code",
   "execution_count": null,
   "metadata": {
    "ExecuteTime": {
     "end_time": "2020-04-23T16:16:29.421026Z",
     "start_time": "2020-04-23T16:16:29.418578Z"
    }
   },
   "outputs": [],
   "source": [
    "IMG_HEIGHT = 100\n",
    "IMG_WIDTH = 100\n",
    "EPOCH = 10"
   ]
  },
  {
   "cell_type": "code",
   "execution_count": null,
   "metadata": {
    "ExecuteTime": {
     "end_time": "2020-04-23T16:16:29.429092Z",
     "start_time": "2020-04-23T16:16:29.423083Z"
    }
   },
   "outputs": [],
   "source": [
    "image_generator = ImageDataGenerator(rescale=1./255)"
   ]
  },
  {
   "cell_type": "code",
   "execution_count": null,
   "metadata": {
    "ExecuteTime": {
     "end_time": "2020-04-23T16:16:29.645483Z",
     "start_time": "2020-04-23T16:16:29.430452Z"
    }
   },
   "outputs": [],
   "source": [
    "train_generator = image_generator.flow_from_directory(\n",
    "    directory='datasets', target_size=(IMG_HEIGHT, IMG_WIDTH),)"
   ]
  },
  {
   "cell_type": "code",
   "execution_count": null,
   "metadata": {
    "ExecuteTime": {
     "end_time": "2020-04-23T16:16:29.653061Z",
     "start_time": "2020-04-23T16:16:29.646996Z"
    }
   },
   "outputs": [],
   "source": [
    "def show_data():\n",
    "    plt.figure(figsize=(20,20))\n",
    "    total = 0\n",
    "    for i in range(1,5):\n",
    "        dir_name = choice(os.listdir('datasets'))\n",
    "        file_path = os.path.join(os.getcwd(),'datasets' ,dir_name)\n",
    "        for n in range(1,5):\n",
    "            total += 1\n",
    "            file = choice(os.listdir(file_path))\n",
    "            image = os.path.join(os.getcwd(), file_path, file)\n",
    "            ax = plt.subplot(5,5,total)\n",
    "            ax.imshow(Image.open(image))"
   ]
  },
  {
   "cell_type": "code",
   "execution_count": null,
   "metadata": {
    "ExecuteTime": {
     "end_time": "2020-04-23T16:16:31.486541Z",
     "start_time": "2020-04-23T16:16:29.655104Z"
    }
   },
   "outputs": [],
   "source": [
    "show_data()"
   ]
  },
  {
   "cell_type": "code",
   "execution_count": null,
   "metadata": {
    "ExecuteTime": {
     "end_time": "2020-04-23T16:16:31.514695Z",
     "start_time": "2020-04-23T16:16:31.488271Z"
    }
   },
   "outputs": [],
   "source": [
    "from keras.models import Sequential\n",
    "from keras.layers import Dense, Activation,Conv2D\n",
    "from keras.layers import MaxPooling2D, Dropout, Flatten"
   ]
  },
  {
   "cell_type": "markdown",
   "metadata": {},
   "source": [
    "<div align=\"left\">\n",
    "<img src=\"https://raw.githubusercontent.com/madewithml/images/master/02_Basics/07_Convolutional_Neural_Networks/convolution.gif\" width=\"500\">\n",
    "</div>\n",
    "\n",
    "* **stride**: amount the filters move from one convolution operation to the next.\n",
    "* **padding**: values (typically zero) padded to the input, typically to create a volume with whole number dimensions."
   ]
  },
  {
   "cell_type": "markdown",
   "metadata": {},
   "source": [
    "Padding types:\n",
    "* **VALID**: no padding, the filters only use the \"valid\" values in the input. If the filter cannot reach all the input values (filters go left to right), the extra values on the right are dropped.\n",
    "* **SAME**: adds padding evenly to the right (preferred) and left sides of the input so that all values in the input are processed.\n",
    "\n",
    "<div align=\"left\">\n",
    "<img src=\"https://raw.githubusercontent.com/madewithml/images/master/02_Basics/07_Convolutional_Neural_Networks/padding.png\" width=\"600\">\n",
    "</div>\n",
    "\n",
    "* There are many other ways to pad our inputs as well, including [custom](https://www.tensorflow.org/api_docs/python/tf/pad) options where we pad the inputs first and then pass it into the CONV layer). A common one is `CONSTANT` padding where we add enough padding to have every value in the input convolve with every value in the filter. We'll explore these custom padding options is later lessons."
   ]
  },
  {
   "cell_type": "code",
   "execution_count": null,
   "metadata": {
    "ExecuteTime": {
     "end_time": "2020-04-23T16:16:31.856382Z",
     "start_time": "2020-04-23T16:16:31.516161Z"
    }
   },
   "outputs": [],
   "source": [
    "model = Sequential()\n",
    "model.add(Conv2D(16, (3,3), input_shape=(100,100, 3) , activation = 'relu'))\n",
    "model.add(MaxPooling2D(pool_size=(2, 2)))\n",
    "model.add(Dropout(0.2))\n",
    "\n",
    "\n",
    "model.add(Conv2D(32, (3,3) , activation='relu'))\n",
    "model.add(MaxPooling2D(pool_size=(2, 2)))\n",
    "model.add(Dropout(0.2))\n",
    "\n",
    "model.add(Conv2D(64, (3,3) , activation='relu'))\n",
    "model.add(MaxPooling2D(pool_size=(2, 2)))\n",
    "model.add(Dropout(0.2))\n",
    "\n",
    "model.add(Conv2D(128, (3,3) , activation='relu'))\n",
    "model.add(MaxPooling2D(pool_size=(2, 2)))\n",
    "model.add(Dropout(0.2))\n",
    "\n",
    "model.add(Flatten())\n",
    "\n",
    "model.add(Dense(1000, activation='relu'))\n",
    "model.add(Dense(13,activation='softmax'))\n"
   ]
  },
  {
   "cell_type": "markdown",
   "metadata": {},
   "source": [
    "When we apply these filter on our inputs, we receive an output of shape (N, 6, 50). We get 50 for the output channel dim because we used 50 filters and 6 for the conv outputs because:\n",
    "\n",
    "$W = \\frac{W_2 - F + 2P}{S} + 1 = \\frac{8 - 3 + 2(0)}{1} + 1 = 6$\n",
    "\n",
    "\n",
    "$D_2 = D_1 $\n",
    "\n",
    "where:\n",
    "  * W: width of each input = 8\n",
    "  * H: height of each input = 1\n",
    "  * D: depth (# channels)\n",
    "  * F: filter size = 3\n",
    "  * P: padding = 0\n",
    "  * S: stride = 1"
   ]
  },
  {
   "cell_type": "code",
   "execution_count": null,
   "metadata": {
    "ExecuteTime": {
     "end_time": "2020-04-23T16:16:31.862676Z",
     "start_time": "2020-04-23T16:16:31.857784Z"
    }
   },
   "outputs": [],
   "source": [
    "model.summary()"
   ]
  },
  {
   "cell_type": "markdown",
   "metadata": {},
   "source": [
    "* The result of convolving filters on an input is a feature map. Due to the nature of convolution and overlaps, our feature map will have lots of redundant information. Pooling is a way to summarize a high-dimensional feature map into a lower dimensional one for simplified downstream computation. The pooling operation can be the max value, average, etc. in a certain receptive field. Below is an example of pooling where the outputs from a conv layer are 4X4 and we're going to apply max pool filters of size 2X2.\n",
    "\n",
    "<div align=\"left\">\n",
    "<img src=\"https://raw.githubusercontent.com/madewithml/images/master/02_Basics/07_Convolutional_Neural_Networks/pooling.png\" width=\"500\">\n",
    "</div>\n",
    "\n",
    "$W = \\frac{W_1 - F}{S} + 1 = \\frac{4 - 2}{2} + 1 = 2$\n",
    "\n",
    "\n",
    "$ D_2 = D_1 $\n",
    "\n",
    "where:\n",
    "  * W: width of each input = 4\n",
    "  * H: height of each input = 4\n",
    "  * D: depth (# channels)\n",
    "  * F: filter size = 2\n",
    "  * S: stride = 2"
   ]
  },
  {
   "cell_type": "code",
   "execution_count": null,
   "metadata": {
    "ExecuteTime": {
     "end_time": "2020-04-23T16:16:31.927420Z",
     "start_time": "2020-04-23T16:16:31.867071Z"
    }
   },
   "outputs": [],
   "source": [
    "model.compile(loss='categorical_crossentropy',\n",
    "              optimizer='adam', metrics=['accuracy'])"
   ]
  },
  {
   "cell_type": "code",
   "execution_count": null,
   "metadata": {
    "ExecuteTime": {
     "end_time": "2020-04-23T16:16:57.323330Z",
     "start_time": "2020-04-23T16:16:31.929280Z"
    }
   },
   "outputs": [],
   "source": [
    "model.fit_generator(\n",
    "    train_generator,\n",
    "    steps_per_epoch=30,\n",
    "    epochs=5,\n",
    ")"
   ]
  },
  {
   "cell_type": "code",
   "execution_count": null,
   "metadata": {
    "ExecuteTime": {
     "end_time": "2020-04-23T16:17:14.967520Z",
     "start_time": "2020-04-23T16:17:14.957795Z"
    }
   },
   "outputs": [],
   "source": [
    "from skimage import io\n",
    "from skimage.transform import resize"
   ]
  },
  {
   "cell_type": "code",
   "execution_count": null,
   "metadata": {
    "ExecuteTime": {
     "end_time": "2020-04-23T16:17:16.920648Z",
     "start_time": "2020-04-23T16:17:15.231406Z"
    }
   },
   "outputs": [],
   "source": [
    "classes = list(train_generator.class_indices.keys())\n",
    "plt.figure(figsize=(20,20))\n",
    "total = 0\n",
    "for i in range(1,5):\n",
    "    dir_name = choice(os.listdir('datasets'))\n",
    "    file_path = os.path.join(os.getcwd(),'datasets' ,dir_name)\n",
    "    for n in range(1,5):\n",
    "        file = choice(os.listdir(file_path))\n",
    "        image = os.path.join(os.getcwd(), file_path, file)\n",
    "        temp = io.imread(image)\n",
    "        temp = resize(temp, (IMG_HEIGHT, IMG_WIDTH))\n",
    "        try:\n",
    "            out = classes[np.argmax(model.predict([[temp]]).tolist()[0])]\n",
    "        except: \n",
    "            continue\n",
    "        total += 1\n",
    "        ax = plt.subplot(5,5,total)\n",
    "        ax.set_title(out)\n",
    "        ax.imshow(temp)\n",
    "        "
   ]
  },
  {
   "cell_type": "code",
   "execution_count": null,
   "metadata": {},
   "outputs": [],
   "source": []
  }
 ],
 "metadata": {
  "kernelspec": {
   "display_name": "Python 3",
   "language": "python",
   "name": "python3"
  },
  "language_info": {
   "codemirror_mode": {
    "name": "ipython",
    "version": 3
   },
   "file_extension": ".py",
   "mimetype": "text/x-python",
   "name": "python",
   "nbconvert_exporter": "python",
   "pygments_lexer": "ipython3",
   "version": "3.7.7"
  }
 },
 "nbformat": 4,
 "nbformat_minor": 4
}
